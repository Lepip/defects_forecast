{
 "cells": [
  {
   "cell_type": "code",
   "id": "initial_id",
   "metadata": {
    "collapsed": true,
    "ExecuteTime": {
     "end_time": "2024-04-15T10:23:26.307947Z",
     "start_time": "2024-04-15T10:23:26.024776Z"
    }
   },
   "source": [
    "import pandas as pd\n",
    "import math\n",
    "import numpy as np\n",
    "import itertools\n",
    "import matplotlib.pyplot as plt\n",
    "\n",
    "from pymatgen.io.ase import AseAtomsAdaptor\n",
    "from pymatgen.core.periodic_table import Element\n",
    "from ase.visualize.plot import plot_atoms"
   ],
   "outputs": [],
   "execution_count": 270
  },
  {
   "metadata": {
    "ExecuteTime": {
     "end_time": "2024-04-15T10:23:26.323244Z",
     "start_time": "2024-04-15T10:23:26.309261Z"
    }
   },
   "cell_type": "code",
   "source": [
    "def print_atom_structure(structure):\n",
    "    ase_atoms = AseAtomsAdaptor.get_atoms(structure)\n",
    "    fig, ax = plt.subplots()\n",
    "    plot_atoms(ase_atoms, ax, radii=0.6, rotation=('10x, 0y, 0z'), show_unit_cell=True)\n",
    "    xlim = 40\n",
    "    ylim = 23\n",
    "    ax.set_xlim(-2, xlim)\n",
    "    ax.set_ylim(-2, ylim)"
   ],
   "id": "6bf1dcaff823b4bb",
   "outputs": [],
   "execution_count": 271
  },
  {
   "metadata": {
    "ExecuteTime": {
     "end_time": "2024-04-15T10:23:26.337896Z",
     "start_time": "2024-04-15T10:23:26.324797Z"
    }
   },
   "cell_type": "code",
   "source": [
    "energyForS = 2.693\n",
    "energyForMo = 7.097"
   ],
   "id": "af366abdc06553e3",
   "outputs": [],
   "execution_count": 272
  },
  {
   "metadata": {
    "ExecuteTime": {
     "end_time": "2024-04-15T10:23:26.358541Z",
     "start_time": "2024-04-15T10:23:26.339312Z"
    }
   },
   "cell_type": "code",
   "source": [
    "class function_calc:\n",
    "    def V_z_16_V_z_16(self, x1):\n",
    "        \n",
    "        # constant\n",
    "        \n",
    "        return  0 - 1/(15+2*x1)\n",
    "    \n",
    "    def V_z_42_V_z_42(self, x1):\n",
    "        \n",
    "        #0\n",
    "        \n",
    "        return (8 / ((np.cos(np.cos(x1)) * np.cos(np.cos(x1))) - (np.exp(x1))))\n",
    "    \n",
    "    def V_z_42_V_z_16(self, x1):\n",
    "    \n",
    "        return 0 + (((x1 * (np.cos(0.5) * ((np.cos(((0.5 * (4 * (x1 * (4 - x1)))) / x1)) * x1) / x1))) - x1) / ((np.exp(x1)) / x1))\n",
    "    \n",
    "    def Se_Se(self, x1):\n",
    "    \n",
    "        return 0 +   ((((5 / x1) * 7) - (2 * 9)) / (np.exp(8)))\n",
    "    \n",
    "    def Se_V_z_16(self, x1):\n",
    "    \n",
    "        return 0 +   (3 / ((x1 / (3 - x1)) - (8**2)))\n",
    "    \n",
    "    def Se_V_z_42(self, x1):\n",
    "    \n",
    "        return  0 +   (((x1 / np.cos(2)) / 2) / (np.exp((x1 + 1))))\n",
    "    \n",
    "    def W_W(self, x1):\n",
    "    \n",
    "        #0\n",
    "        \n",
    "        return (np.cos(((np.cos(2) * np.cos(2)) * x1)) / (x1 * ((np.exp(x1)) * x1)))\n",
    "    \n",
    "    def W_Se(self, x1):\n",
    "    \n",
    "        return 0 +   ((-1 - (3 / (x1 - (x1**2)))) / (8**2))\n",
    "    \n",
    "    def W_V_z_42(self, x1):\n",
    "        \n",
    "        #0\n",
    "        \n",
    "        return (np.cos((x1 - (np.cos(7) * np.cos(7)))) / ((np.exp(x1)) + -1))\n",
    "    \n",
    "    def W_V_z_16(self, x1):\n",
    "        \n",
    "        return 0 +   (((2 - x1) / (7**2)) / x1)\n",
    "    \n",
    "    def __call__(self, defect_type1, defect_type2, distance, debug=False):\n",
    "        all_funcs = [\n",
    "            'Se_Se', # 0\n",
    "            'Se_V_z_16', # 1\n",
    "            'Se_V_z_42', # 2\n",
    "            'V_z_16_V_z_16', # 3\n",
    "            'V_z_42_V_z_16', # 4\n",
    "            'V_z_42_V_z_42', # 5\n",
    "            'W_Se', # 6\n",
    "            'W_V_z_16', # 7\n",
    "            'W_V_z_42', # 8\n",
    "            'W_W' # 9\n",
    "        ]\n",
    "        defect_types = {\n",
    "            0: 'V_z_16', \n",
    "            1: 'V_z_42', \n",
    "            2: 'Se', \n",
    "            3: 'W'\n",
    "        }\n",
    "        call_matrix = [\n",
    "            [3, 4, 1, 7], \n",
    "            [4, 5, 2, 8], \n",
    "            [1, 2, 0, 6], \n",
    "            [7, 8, 6, 9]\n",
    "        ]\n",
    "        \n",
    "        formation_consts = {\n",
    "            'V_z_16': 2.645686,\n",
    "            'V_z_42': 7.121477,\n",
    "            'Se': 0.278959,\n",
    "            'W': 0.166689,\n",
    "        }\n",
    "        if distance == 0.:\n",
    "            return formation_consts[defect_types[defect_type1]]\n",
    "        func_num = call_matrix[defect_type1][defect_type2]\n",
    "        func = getattr(self, all_funcs[func_num])\n",
    "        ans = func(distance)\n",
    "        if debug:\n",
    "            print(func_num, distance, ans)\n",
    "        return ans"
   ],
   "id": "9201b14cca8e7691",
   "outputs": [],
   "execution_count": 273
  },
  {
   "metadata": {
    "ExecuteTime": {
     "end_time": "2024-04-15T10:23:26.377535Z",
     "start_time": "2024-04-15T10:23:26.359847Z"
    }
   },
   "cell_type": "code",
   "source": [
    "empty_pickle = pd.read_pickle('emptydata.pkl')\n",
    "empty_pickle = empty_pickle.iloc[0]\n",
    "structure = empty_pickle.initial_structure.copy()"
   ],
   "id": "7c1f7dd3a572d66d",
   "outputs": [],
   "execution_count": 274
  },
  {
   "metadata": {
    "ExecuteTime": {
     "end_time": "2024-04-15T10:23:26.391414Z",
     "start_time": "2024-04-15T10:23:26.379195Z"
    }
   },
   "cell_type": "code",
   "source": "from oper import Defect, DefectSet, TopBatch, RandomBatch, BatchOper, EvalFunction",
   "id": "d09b54e0281e72bf",
   "outputs": [],
   "execution_count": 275
  },
  {
   "metadata": {
    "ExecuteTime": {
     "end_time": "2024-04-15T10:23:26.406629Z",
     "start_time": "2024-04-15T10:23:26.393504Z"
    }
   },
   "cell_type": "code",
   "source": [
    "def get_atom(structure, matrices, defect):\n",
    "    defect_pos = matrices[defect.cords[0]][defect.cords[1]][defect.cords[2]][2]\n",
    "    atom = structure[int(defect_pos)]\n",
    "    return atom"
   ],
   "id": "958ea7227a753edb",
   "outputs": [],
   "execution_count": 276
  },
  {
   "metadata": {
    "ExecuteTime": {
     "end_time": "2024-04-15T10:23:26.426451Z",
     "start_time": "2024-04-15T10:23:26.411841Z"
    }
   },
   "cell_type": "code",
   "source": [
    "def is_Mo(atom):\n",
    "    return atom.species.as_dict()['Mo'] == 1.0\n",
    "\n",
    "def is_S1(atom):\n",
    "    return atom.frac_coords[2] ==  0.144826\n",
    "\n",
    "def is_S2(atom):\n",
    "    return atom.frac_coords[2] == 0.355174"
   ],
   "id": "f798ed9c3d2d5105",
   "outputs": [],
   "execution_count": 277
  },
  {
   "metadata": {
    "ExecuteTime": {
     "end_time": "2024-04-15T10:23:26.457628Z",
     "start_time": "2024-04-15T10:23:26.444268Z"
    }
   },
   "cell_type": "code",
   "source": [
    "def get_atom_id(atom):\n",
    "    if is_S1(atom):\n",
    "        return 0\n",
    "    if is_Mo(atom):\n",
    "        return 1\n",
    "    if is_S2(atom):\n",
    "        return 2\n",
    "    raise ValueError(f\"atom {atom} is not defined\")\n",
    "\n",
    "atom_types = [0, 1, 2]"
   ],
   "id": "30d86c73fe8c625b",
   "outputs": [],
   "execution_count": 278
  },
  {
   "metadata": {
    "ExecuteTime": {
     "end_time": "2024-04-15T10:23:26.506272Z",
     "start_time": "2024-04-15T10:23:26.492745Z"
    }
   },
   "cell_type": "code",
   "source": [
    "def get_matrices_MoS2(structure):\n",
    "    matrices = [[], [], []]\n",
    "    elements = [[], [], []]\n",
    "    for idx, atom in enumerate(structure):\n",
    "        matrices[get_atom_id(atom)].append([atom.frac_coords[0], atom.frac_coords[1], idx])\n",
    "    for matrix in matrices:\n",
    "        matrix.sort()\n",
    "    matrices = np.array(matrices).reshape(3, 8, 8, 3)\n",
    "    return matrices"
   ],
   "id": "c2a0062870433133",
   "outputs": [],
   "execution_count": 279
  },
  {
   "metadata": {
    "ExecuteTime": {
     "end_time": "2024-04-15T10:23:26.536297Z",
     "start_time": "2024-04-15T10:23:26.521234Z"
    }
   },
   "cell_type": "code",
   "source": "matrices = get_matrices_MoS2(structure)",
   "id": "3fa96e759fe94b1c",
   "outputs": [],
   "execution_count": 280
  },
  {
   "metadata": {
    "ExecuteTime": {
     "end_time": "2024-04-15T10:23:26.578825Z",
     "start_time": "2024-04-15T10:23:26.564646Z"
    }
   },
   "cell_type": "code",
   "source": [
    "def calc_distance(atom1, atom2):\n",
    "    x = (atom1.coords[0] - atom2.coords[0]) ** 2\n",
    "    y = (atom1.coords[1] - atom2.coords[1]) ** 2\n",
    "    z = (atom1.coords[2] - atom2.coords[2]) ** 2\n",
    "    distance = math.sqrt(x + y + z)\n",
    "    return distance"
   ],
   "id": "48690c5da81dc14c",
   "outputs": [],
   "execution_count": 281
  },
  {
   "metadata": {
    "ExecuteTime": {
     "end_time": "2024-04-15T10:23:26.596723Z",
     "start_time": "2024-04-15T10:23:26.580184Z"
    }
   },
   "cell_type": "code",
   "source": [
    "def get_energy(structure, matrices, defect_set, function_set, debug=False):\n",
    "    energy = 0\n",
    "    for defect1, defect2, in itertools.combinations_with_replacement(list(defect_set), 2):\n",
    "        atom1 = get_atom(structure, matrices, defect1)\n",
    "        atom2 = get_atom(structure, matrices, defect2)\n",
    "        distance = calc_distance(atom1, atom2)\n",
    "        energy += function_set(defect1.type, defect2.type, distance, debug)\n",
    "    return energy"
   ],
   "id": "d640577336f972f1",
   "outputs": [],
   "execution_count": 282
  },
  {
   "metadata": {
    "ExecuteTime": {
     "end_time": "2024-04-15T10:23:26.614198Z",
     "start_time": "2024-04-15T10:23:26.598263Z"
    }
   },
   "cell_type": "code",
   "source": "function_set = function_calc()",
   "id": "94ffa6642b3e67df",
   "outputs": [],
   "execution_count": 283
  },
  {
   "metadata": {
    "ExecuteTime": {
     "end_time": "2024-04-15T10:23:26.638882Z",
     "start_time": "2024-04-15T10:23:26.626493Z"
    }
   },
   "cell_type": "code",
   "source": "eval_function = EvalFunction(get_energy, structure, matrices, function_set)",
   "id": "ce6335ac794999c4",
   "outputs": [],
   "execution_count": 284
  },
  {
   "metadata": {
    "ExecuteTime": {
     "end_time": "2024-04-15T10:23:26.660992Z",
     "start_time": "2024-04-15T10:23:26.646756Z"
    }
   },
   "cell_type": "code",
   "source": [
    "%load_ext autoreload\n",
    "%autoreload 2"
   ],
   "id": "a9e1aff09ba9b135",
   "outputs": [
    {
     "name": "stdout",
     "output_type": "stream",
     "text": [
      "The autoreload extension is already loaded. To reload it, use:\n",
      "  %reload_ext autoreload\n"
     ]
    }
   ],
   "execution_count": 285
  },
  {
   "metadata": {
    "ExecuteTime": {
     "end_time": "2024-04-15T10:23:26.697698Z",
     "start_time": "2024-04-15T10:23:26.684642Z"
    }
   },
   "cell_type": "code",
   "source": [
    "def possible_moves(defect, max_range=1):\n",
    "    if defect.type == 0 or defect.type == 2:\n",
    "        return [0, 2], list(range(-max_range, max_range + 1)), list(range(-max_range, max_range + 1))\n",
    "    if defect.type == 1 or defect.type == 3:\n",
    "        return [1], list(range(-max_range, max_range + 1)), list(range(-max_range, max_range + 1))"
   ],
   "id": "39957a2b15407df9",
   "outputs": [],
   "execution_count": 286
  },
  {
   "metadata": {
    "ExecuteTime": {
     "end_time": "2024-04-15T10:23:26.719544Z",
     "start_time": "2024-04-15T10:23:26.704583Z"
    }
   },
   "cell_type": "code",
   "source": [
    "def get_possible_positions(structure, matrices, defect, defect_set, max_range=1):\n",
    "    possible_positions = []\n",
    "    for move in itertools.product(*possible_moves(defect, max_range)):\n",
    "        position = [move[0], defect.cords[1] + move[1], defect.cords[2] + move[2]]\n",
    "        if not 0 <= position[1] < matrices[position[0]].shape[0]:\n",
    "            continue\n",
    "        if not 0 <= position[2] < matrices[position[0]].shape[1]:\n",
    "            continue\n",
    "        if Defect(cords=tuple(position)) in defect_set:\n",
    "            continue\n",
    "        possible_positions.append(position)\n",
    "    return possible_positions"
   ],
   "id": "f18eba73ad3c45bb",
   "outputs": [],
   "execution_count": 287
  },
  {
   "metadata": {
    "ExecuteTime": {
     "end_time": "2024-04-15T10:23:26.769860Z",
     "start_time": "2024-04-15T10:23:26.756459Z"
    }
   },
   "cell_type": "code",
   "source": [
    "import random\n",
    "\n",
    "\n",
    "def upd_defect_set(structure, matrices, defect_set, max_range=1):\n",
    "    random_defect = random.sample(defect_set.defect_set, 1)[0]\n",
    "    defect_set = defect_set.copy()\n",
    "    defect_set.remove_defect(random_defect)\n",
    "    possible_positions = get_possible_positions(structure, matrices, random_defect, defect_set, max_range)\n",
    "    new_sets = []\n",
    "    for position in possible_positions:\n",
    "        new_set = defect_set.copy()\n",
    "        new_set.add_defect(Defect(type=random_defect.type, cords=tuple(position)))\n",
    "        new_sets.append(new_set)\n",
    "    return new_sets"
   ],
   "id": "2ff6b1d126605501",
   "outputs": [],
   "execution_count": 288
  },
  {
   "metadata": {
    "ExecuteTime": {
     "end_time": "2024-04-15T10:23:26.786300Z",
     "start_time": "2024-04-15T10:23:26.773693Z"
    }
   },
   "cell_type": "code",
   "source": "target=0",
   "id": "ddcce50ae663b925",
   "outputs": [],
   "execution_count": 289
  },
  {
   "metadata": {
    "ExecuteTime": {
     "end_time": "2024-04-15T10:23:26.802699Z",
     "start_time": "2024-04-15T10:23:26.789679Z"
    }
   },
   "cell_type": "code",
   "source": [
    "def random_position(defect_type):\n",
    "    layer = 100\n",
    "    if defect_type == 0 or defect_type == 2:\n",
    "        layer = random.choice([0, 2])\n",
    "    if defect_type == 1 or defect_type == 3:\n",
    "        layer = 1\n",
    "        \n",
    "    x = random.choice(range(matrices[layer].shape[0]))\n",
    "    y = random.choice(range(matrices[layer].shape[1]))\n",
    "    return layer, x, y"
   ],
   "id": "6a2a2a29b2f10d91",
   "outputs": [],
   "execution_count": 290
  },
  {
   "metadata": {
    "ExecuteTime": {
     "end_time": "2024-04-15T10:23:26.830813Z",
     "start_time": "2024-04-15T10:23:26.817928Z"
    }
   },
   "cell_type": "code",
   "source": [
    "def random_defects(empty_set, defects):\n",
    "    new_set = empty_set.copy()\n",
    "    for defect_type in defects:\n",
    "        for i in range(defects[defect_type]):\n",
    "            defect = Defect(defect_type, random_position(defect_type))\n",
    "            while defect in new_set:\n",
    "                defect = Defect(defect_type, random_position(defect_type))\n",
    "            new_set.add_defect(defect)\n",
    "    return new_set"
   ],
   "id": "9c6293a7a665efa7",
   "outputs": [],
   "execution_count": 291
  },
  {
   "metadata": {
    "ExecuteTime": {
     "end_time": "2024-04-15T10:23:26.847252Z",
     "start_time": "2024-04-15T10:23:26.833705Z"
    }
   },
   "cell_type": "code",
   "source": [
    "def mutate(defect_set):\n",
    "    random_defect = random.sample(defect_set.defect_set, 1)[0]\n",
    "    defect_set = defect_set.copy()\n",
    "    defect_set.remove_defect(random_defect)\n",
    "    possible_positions = get_possible_positions(structure, matrices, random_defect, defect_set, 1)\n",
    "    position = random.choice(possible_positions)\n",
    "    new_defect = Defect(type=random_defect.type, cords=tuple(position))\n",
    "    defect_set.add_defect(new_defect)\n",
    "    return defect_set"
   ],
   "id": "d46f0582232d04ab",
   "outputs": [],
   "execution_count": 292
  },
  {
   "metadata": {
    "ExecuteTime": {
     "end_time": "2024-04-15T10:23:26.866802Z",
     "start_time": "2024-04-15T10:23:26.851690Z"
    }
   },
   "cell_type": "code",
   "source": [
    "def step_optimize(structure, matrices, batch_op, max_range=1):\n",
    "    new_sets = []\n",
    "    for defect_set in batch_op:\n",
    "        new_sets.extend(upd_defect_set(structure, matrices, defect_set, max_range))\n",
    "    batch_op.process_members(new_sets)\n",
    "    for i in range(5):\n",
    "        batch_op[2].mutate(mutate)\n",
    "    energies = []\n",
    "    for defect_set in batch_op:\n",
    "        energies.append(defect_set.get_energy())\n",
    "    return np.mean(energies)"
   ],
   "id": "b74f4a7218109cab",
   "outputs": [],
   "execution_count": 293
  },
  {
   "metadata": {
    "ExecuteTime": {
     "end_time": "2024-04-15T10:23:26.909492Z",
     "start_time": "2024-04-15T10:23:26.894439Z"
    }
   },
   "cell_type": "code",
   "source": [
    "def create_printable_structure_MoS2(structure, defects):\n",
    "    matrices = get_matrices_MoS2(structure)\n",
    "    ans = structure.copy()\n",
    "    to_delete = []\n",
    "    for defect in defects:\n",
    "        defect_id = int(matrices[defect.cords[0]][defect.cords[1]][defect.cords[2]][2])\n",
    "        if defect.type == 0 or defect.type == 1:\n",
    "            to_delete.append(defect_id)\n",
    "        if defect.type == 2:\n",
    "            ans.replace(defect_id, Element('Se'))\n",
    "        if defect.type == 3:\n",
    "            ans.replace(defect_id, Element('W'))\n",
    "    ans.remove_sites(to_delete)\n",
    "    return ans"
   ],
   "id": "f68547c191fcc9d5",
   "outputs": [],
   "execution_count": 294
  },
  {
   "metadata": {
    "ExecuteTime": {
     "end_time": "2024-04-15T10:23:26.928024Z",
     "start_time": "2024-04-15T10:23:26.911394Z"
    }
   },
   "cell_type": "code",
   "source": [
    "batch_op = BatchOper([TopBatch(20), RandomBatch(7), TopBatch(15)], target_energy=-1000)\n",
    "empty_set = DefectSet(eval_function)\n",
    "defects = {\n",
    "    0: 2,\n",
    "    1: 2,\n",
    "    2: 2,\n",
    "    3: 2,\n",
    "}\n",
    "initial_set = random_defects(empty_set, defects)\n",
    "batch_op.process_members([initial_set])"
   ],
   "id": "73c6e2fa83f2928b",
   "outputs": [],
   "execution_count": 295
  },
  {
   "metadata": {
    "ExecuteTime": {
     "end_time": "2024-04-15T10:23:29.578240Z",
     "start_time": "2024-04-15T10:23:26.936859Z"
    }
   },
   "cell_type": "code",
   "source": [
    "energies = []\n",
    "for i in range(20):\n",
    "    energies.append(step_optimize(structure, matrices, batch_op))"
   ],
   "id": "bdfa710f675a8fa5",
   "outputs": [],
   "execution_count": 296
  },
  {
   "metadata": {
    "ExecuteTime": {
     "end_time": "2024-04-15T10:23:29.702740Z",
     "start_time": "2024-04-15T10:23:29.580097Z"
    }
   },
   "cell_type": "code",
   "source": [
    "plt.plot(np.array(energies))\n",
    "plt.title(\"Mean batch energy step by step\")\n",
    "plt.show()"
   ],
   "id": "37c3afcca65ab961",
   "outputs": [
    {
     "data": {
      "text/plain": [
       "<Figure size 640x480 with 1 Axes>"
      ],
      "image/png": "[encoded data removed]"
     },
     "metadata": {},
     "output_type": "display_data"
    }
   ],
   "execution_count": 297
  },
  {
   "metadata": {
    "ExecuteTime": {
     "end_time": "2024-04-15T10:23:29.715791Z",
     "start_time": "2024-04-15T10:23:29.703785Z"
    }
   },
   "cell_type": "code",
   "source": "best_set = batch_op[0].members[0]",
   "id": "58201909a8ef8567",
   "outputs": [],
   "execution_count": 298
  },
  {
   "metadata": {
    "ExecuteTime": {
     "end_time": "2024-04-15T10:23:30.712586Z",
     "start_time": "2024-04-15T10:23:29.717281Z"
    }
   },
   "cell_type": "code",
   "source": "print_atom_structure(create_printable_structure_MoS2(structure, best_set))",
   "id": "49789827007467c",
   "outputs": [
    {
     "data": {
      "text/plain": [
       "<Figure size 640x480 with 1 Axes>"
      ],
      "image/png": "[encoded data removed]"
     },
     "metadata": {},
     "output_type": "display_data"
    }
   ],
   "execution_count": 299
  },
  {
   "metadata": {
    "ExecuteTime": {
     "end_time": "2024-04-15T10:23:30.727043Z",
     "start_time": "2024-04-15T10:23:30.713421Z"
    }
   },
   "cell_type": "code",
   "source": "best_set.get_energy(debug=True)",
   "id": "c678bb60f2ff4acb",
   "outputs": [
    {
     "name": "stdout",
     "output_type": "stream",
     "text": [
      "8 3.190315614924913 -0.037259258108425466\n",
      "4 2.416933672897242 -0.9781521819934399\n",
      "8 3.1903157850750845 -0.03725925512349157\n",
      "4 2.416933672897242 -0.9781521819934399\n",
      "2 4.002459370980893 -0.03232286423633369\n",
      "2 2.416933336003762 -0.09528680951872244\n",
      "5 3.190315700000003 -0.33329041871678544\n",
      "7 4.002459710042876 -0.010210352547012844\n",
      "9 5.525788884584665 7.513263662874511e-05\n",
      "7 4.002459710042876 -0.010210352547012844\n",
      "6 2.416933672897234 -0.0019374087617455155\n",
      "6 2.416933616748322 -0.0019374079013636993\n",
      "8 3.1903157850750845 -0.03725925512349157\n",
      "7 2.41693339215267 -0.003520512714763352\n",
      "3 3.129768733392 -0.047037711971034395\n",
      "1 3.1903156999999993 -0.03714559308515282\n",
      "1 4.46917963279444 -0.044748097818983694\n",
      "4 2.416933616748317 -0.9781521902078351\n",
      "7 2.41693339215267 -0.003520512714763352\n",
      "6 5.118378082591563 -0.013401266678971402\n",
      "6 5.1183781091054685 -0.013401266704806927\n",
      "8 3.190315614924913 -0.037259258108425466\n",
      "1 4.46917963279444 -0.044748097818983694\n",
      "1 3.190315700000001 -0.03714559308515288\n",
      "4 2.416933616748316 -0.9781521902078353\n",
      "0 4.46917963279444 -0.0034111802772225225\n",
      "2 2.4169334483015805 -0.09528680324552662\n",
      "2 4.002459438793285 -0.03232286259207895\n"
     ]
    },
    {
     "data": {
      "text/plain": [
       "15.503166248833828"
      ]
     },
     "execution_count": 300,
     "metadata": {},
     "output_type": "execute_result"
    }
   ],
   "execution_count": 300
  },
  {
   "metadata": {
    "ExecuteTime": {
     "end_time": "2024-04-15T10:23:30.740600Z",
     "start_time": "2024-04-15T10:23:30.728566Z"
    }
   },
   "cell_type": "code",
   "source": [
    "def get_atom_from_cords(coords, structure):\n",
    "    for idx, atom in enumerate(structure):\n",
    "        if (abs(atom.frac_coords - coords) < 0.01).all():\n",
    "            yield idx, atom"
   ],
   "id": "1eff4be6b99965ff",
   "outputs": [],
   "execution_count": 301
  },
  {
   "metadata": {
    "ExecuteTime": {
     "end_time": "2024-04-15T10:23:30.753625Z",
     "start_time": "2024-04-15T10:23:30.741857Z"
    }
   },
   "cell_type": "code",
   "source": [
    "def get_atom_id(coords, structure):\n",
    "    return list(get_atom_from_cords(coords, structure))[0][0]"
   ],
   "id": "2bde10c4a6672961",
   "outputs": [],
   "execution_count": 302
  },
  {
   "metadata": {
    "ExecuteTime": {
     "end_time": "2024-04-15T10:23:30.766493Z",
     "start_time": "2024-04-15T10:23:30.754694Z"
    }
   },
   "cell_type": "code",
   "source": [
    "def get_matrices_coords(id):\n",
    "    return tuple(arr[0] for arr in np.where(matrices == id)[:3])"
   ],
   "id": "7458408fa91e7eb9",
   "outputs": [],
   "execution_count": 303
  },
  {
   "metadata": {
    "ExecuteTime": {
     "end_time": "2024-04-15T10:23:30.781909Z",
     "start_time": "2024-04-15T10:23:30.767540Z"
    }
   },
   "cell_type": "code",
   "source": "get_atom_id((0.042, 0.333, 0.25),structure)",
   "id": "f79000e9457f9868",
   "outputs": [
    {
     "data": {
      "text/plain": [
       "2"
      ]
     },
     "execution_count": 304,
     "metadata": {},
     "output_type": "execute_result"
    }
   ],
   "execution_count": 304
  },
  {
   "metadata": {
    "ExecuteTime": {
     "end_time": "2024-04-15T10:23:30.798858Z",
     "start_time": "2024-04-15T10:23:30.784131Z"
    }
   },
   "cell_type": "code",
   "source": "get_matrices_coords(get_atom_id((0.042, 0.333, 0.25),structure))",
   "id": "5d58f5cbc9da4b2b",
   "outputs": [
    {
     "data": {
      "text/plain": [
       "(1, 0, 2)"
      ]
     },
     "execution_count": 305,
     "metadata": {},
     "output_type": "execute_result"
    }
   ],
   "execution_count": 305
  },
  {
   "metadata": {
    "ExecuteTime": {
     "end_time": "2024-04-15T10:29:51.221810Z",
     "start_time": "2024-04-15T10:29:51.193883Z"
    }
   },
   "cell_type": "code",
   "source": [
    "d0 = Defect(1, get_matrices_coords(get_atom_id((0.042, 0.333, 0.25),structure)))\n",
    "d1 = Defect(0, get_matrices_coords(get_atom_id((0.208, 0.167, 0.145),structure)))\n",
    "d2 = Defect(2, get_matrices_coords(get_atom_id((0.083333, 0.291667, 0.355174),structure)))\n",
    "d_set = DefectSet(eval_function)\n",
    "d_set.add_defect(d0)\n",
    "d_set.add_defect(d1)\n",
    "d_set.add_defect(d2)\n",
    "d_set.get_energy(debug=True) # 3.283003"
   ],
   "id": "538dc20de0fb7595",
   "outputs": [
    {
     "name": "stdout",
     "output_type": "stream",
     "text": [
      "1 6.350574393038605 -0.0455267198826849\n",
      "2 2.4169333921526697 -0.09528680638212458\n",
      "4 7.532073811885252 -0.011447137868792274\n"
     ]
    },
    {
     "data": {
      "text/plain": [
       "3.2979537786221322"
      ]
     },
     "execution_count": 314,
     "metadata": {},
     "output_type": "execute_result"
    }
   ],
   "execution_count": 314
  },
  {
   "metadata": {
    "ExecuteTime": {
     "end_time": "2024-04-15T10:27:04.262898Z",
     "start_time": "2024-04-15T10:27:04.245403Z"
    }
   },
   "cell_type": "code",
   "source": [
    "d0 = Defect(1, get_matrices_coords(get_atom_id((0.667,  0.333,  0.25),structure)))\n",
    "d1 = Defect(0, get_matrices_coords(get_atom_id((0.333,  0.667,  0.145),structure)))\n",
    "d2 = Defect(0, get_matrices_coords(get_atom_id((0.958,  0.042,  0.145),structure)))\n",
    "d_set = DefectSet(eval_function)\n",
    "d_set.add_defect(d0)\n",
    "d_set.add_defect(d1)\n",
    "d_set.add_defect(d2)\n",
    "d_set.get_energy(debug=True) # 4.151911"
   ],
   "id": "bea12d615d570282",
   "outputs": [
    {
     "name": "stdout",
     "output_type": "stream",
     "text": [
      "3 27.62894427556897 -0.0142332771539546\n",
      "4 14.81829839810725 -0.00014685131546460654\n",
      "4 12.988125048950918 -0.00016836000242477695\n"
     ]
    },
    {
     "data": {
      "text/plain": [
       "4.132766837176052"
      ]
     },
     "execution_count": 312,
     "metadata": {},
     "output_type": "execute_result"
    }
   ],
   "execution_count": 312
  },
  {
   "metadata": {
    "ExecuteTime": {
     "end_time": "2024-04-15T10:29:40.223645Z",
     "start_time": "2024-04-15T10:29:40.206435Z"
    }
   },
   "cell_type": "code",
   "source": [
    "d0 = Defect(2, get_matrices_coords(get_atom_id((0.833333,  0.916667,  0.144826),structure)))\n",
    "d1 = Defect(2, get_matrices_coords(get_atom_id((0.958333,  0.291667,  0.355174),structure)))\n",
    "d_set = DefectSet(eval_function)\n",
    "d_set.add_defect(d0)\n",
    "d_set.add_defect(d1)\n",
    "d_set.get_energy(debug=True) # 0.289753"
   ],
   "id": "9c90e0a19008a2f3",
   "outputs": [
    {
     "name": "stdout",
     "output_type": "stream",
     "text": [
      "0 18.036546081780163 -0.005387360541572091\n"
     ]
    },
    {
     "data": {
      "text/plain": [
       "0.276265319729214"
      ]
     },
     "execution_count": 313,
     "metadata": {},
     "output_type": "execute_result"
    }
   ],
   "execution_count": 313
  },
  {
   "metadata": {
    "ExecuteTime": {
     "end_time": "2024-04-15T10:37:20.350009Z",
     "start_time": "2024-04-15T10:37:20.331340Z"
    }
   },
   "cell_type": "code",
   "source": [
    "d0 = Defect(1, get_matrices_coords(get_atom_id((0.792,  0.208,  0.25),structure)))\n",
    "d1 = Defect(0, get_matrices_coords(get_atom_id((0.208,  0.917,  0.145),structure)))\n",
    "d2 = Defect(0, get_matrices_coords(get_atom_id((0.208,  0.667,  0.355),structure)))\n",
    "d_set = DefectSet(eval_function)\n",
    "d_set.add_defect(d0)\n",
    "d_set.add_defect(d1)\n",
    "d_set.add_defect(d2)\n",
    "d_set.get_energy(debug=True) # 4.140348"
   ],
   "id": "5e8cec9e3d0d8334",
   "outputs": [
    {
     "name": "stdout",
     "output_type": "stream",
     "text": [
      "4 23.132304683382323 -1.2461444815355324e-08\n",
      "4 28.63722622597179 -1.5568141927912227e-10\n",
      "3 7.106891758909071 -0.03423041727512212\n"
     ]
    },
    {
     "data": {
      "text/plain": [
       "4.126206190035917"
      ]
     },
     "execution_count": 315,
     "metadata": {},
     "output_type": "execute_result"
    }
   ],
   "execution_count": 315
  },
  {
   "metadata": {},
   "cell_type": "code",
   "outputs": [],
   "execution_count": null,
   "source": "",
   "id": "c2d709ae316d40c4"
  }
 ],
 "metadata": {
  "kernelspec": {
   "display_name": "Python_Kernel38",
   "language": "python",
   "name": "kernel_name"
  },
  "language_info": {
   "codemirror_mode": {
    "name": "ipython",
    "version": 2
   },
   "file_extension": ".py",
   "mimetype": "text/x-python",
   "name": "python",
   "nbconvert_exporter": "python",
   "pygments_lexer": "ipython2",
   "version": "2.7.6"
  }
 },
 "nbformat": 4,
 "nbformat_minor": 5
}
